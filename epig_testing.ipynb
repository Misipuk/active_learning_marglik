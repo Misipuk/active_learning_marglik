{
 "cells": [
  {
   "cell_type": "code",
   "execution_count": 1,
   "id": "169689ba",
   "metadata": {},
   "outputs": [],
   "source": [
    "from active_learning.utils import dataset_to_tensors\n",
    "import torch\n",
    "import torch.distributions as dists\n",
    "import hydra\n",
    "from hydra import compose, initialize\n",
    "from hydra.utils import call, instantiate\n",
    "from omegaconf import OmegaConf\n",
    "import yaml\n",
    "import numpy as np\n",
    "from active_learning.utils import TensorDataLoader, set_seed, CIFAR10_transform, dataset_to_tensors\n",
    "\n",
    "import torch\n",
    "import math\n",
    "from torch import Tensor\n",
    "from torchvision import transforms\n",
    "from torchvision.datasets import MNIST\n",
    "from sklearn.model_selection import train_test_split\n",
    "from active_learning.active_dataset import *"
   ]
  },
  {
   "cell_type": "code",
   "execution_count": 2,
   "id": "39eb5dc6",
   "metadata": {},
   "outputs": [],
   "source": [
    "import hydra\n",
    "from hydra import compose, initialize\n",
    "from hydra.utils import call, instantiate\n",
    "from omegaconf import OmegaConf\n",
    "import yaml"
   ]
  },
  {
   "cell_type": "code",
   "execution_count": 3,
   "id": "318b7d8b",
   "metadata": {},
   "outputs": [],
   "source": [
    "from src.utils import Dictionary"
   ]
  },
  {
   "cell_type": "code",
   "execution_count": 4,
   "id": "e67126e6",
   "metadata": {},
   "outputs": [],
   "source": [
    "#!pip install laplace-torch\n",
    "#!pip install torchvision\n",
    "#!pip install batchbald_redux"
   ]
  },
  {
   "cell_type": "code",
   "execution_count": 5,
   "id": "c9f94fdd",
   "metadata": {},
   "outputs": [],
   "source": [
    "with initialize(version_base=None, config_path=\"config\"):\n",
    "    cfg = compose(config_name=\"main\", overrides=[\"data=mnist/unbalanced_pool\", \"experiment_name=mnist_unbalanced\", \"acquisition.objective=epig\"])\n",
    "\n",
    "#cfg.data['label_counts']['train']['10_classes_in_range(10)'] = 10\n",
    "\n",
    "device = 'cpu'\n",
    "#'cuda'\n",
    "rng = call(cfg.rng)\n",
    "data = instantiate(cfg.data, rng=rng)\n",
    "data.torch()\n",
    "data.to(device)"
   ]
  },
  {
   "cell_type": "code",
   "execution_count": 6,
   "id": "bd1bed20",
   "metadata": {},
   "outputs": [],
   "source": [
    "###EPIG Active data class"
   ]
  },
  {
   "cell_type": "code",
   "execution_count": 6,
   "id": "8779466e",
   "metadata": {},
   "outputs": [
    {
     "name": "stdout",
     "output_type": "stream",
     "text": [
      "{'_target_': 'src.models.ConvolutionalNeuralNetwork', 'dropout_rate': 0.5}\n",
      "2\n"
     ]
    }
   ],
   "source": [
    "print(cfg.model)\n",
    "cfg.trainer[\"n_optim_steps_max\"] = 2\n",
    "print(cfg.trainer[\"n_optim_steps_max\"])"
   ]
  },
  {
   "cell_type": "code",
   "execution_count": 8,
   "id": "9f503374",
   "metadata": {},
   "outputs": [],
   "source": [
    "model = instantiate(cfg.model, input_shape=data.input_shape, output_size=data.n_classes)\n",
    "model = model.to(device)\n",
    "trainer = instantiate(cfg.trainer, model=model)"
   ]
  },
  {
   "cell_type": "code",
   "execution_count": 9,
   "id": "016bad12",
   "metadata": {},
   "outputs": [],
   "source": [
    "# val_loader=data.get_loader(\"val\")\n",
    "# #val_ds = val_loader.dataset\n",
    "# #x_val, y_val = dataset_to_tensors(val_ds, device=device)\n",
    "# for x_b, y_b in val_loader:\n",
    "#     print(x_b.dtype)\n",
    "#     print(y_b.dtype)\n",
    "#     break"
   ]
  },
  {
   "cell_type": "code",
   "execution_count": 10,
   "id": "9632b8c9",
   "metadata": {},
   "outputs": [],
   "source": [
    "#len(val_loader.dataset)"
   ]
  },
  {
   "cell_type": "code",
   "execution_count": 11,
   "id": "bea1d8e7",
   "metadata": {},
   "outputs": [],
   "source": [
    "train_log = trainer.train(\n",
    "            train_loader=data.get_loader(\"train\"),\n",
    "            val_loader=data.get_loader(\"val\"),\n",
    "        )"
   ]
  },
  {
   "cell_type": "code",
   "execution_count": 12,
   "id": "45c04c3b",
   "metadata": {},
   "outputs": [
    {
     "data": {
      "text/plain": [
       "'epig'"
      ]
     },
     "execution_count": 12,
     "metadata": {},
     "output_type": "execute_result"
    }
   ],
   "source": [
    "cfg.acquisition.objective"
   ]
  },
  {
   "cell_type": "code",
   "execution_count": 13,
   "id": "f3b65fc6",
   "metadata": {},
   "outputs": [],
   "source": [
    "target_loader = data.get_loader(\"target\")\n",
    "target_inputs, _ = next(iter(target_loader))\n",
    "\n",
    "scores = trainer.estimate_uncertainty(\n",
    "    pool_loader=data.get_loader(\"val\"),\n",
    "    target_inputs=target_inputs,\n",
    "    mode='bald',\n",
    "    rng=rng,\n",
    "    epig_probs_target=cfg.acquisition.epig_probs_target,\n",
    "    epig_probs_adjustment=cfg.acquisition.epig_probs_adjustment,\n",
    "    epig_using_matmul=cfg.acquisition.epig_using_matmul,\n",
    ")"
   ]
  },
  {
   "cell_type": "code",
   "execution_count": 14,
   "id": "8499b331",
   "metadata": {},
   "outputs": [],
   "source": [
    "scores = scores.numpy()\n",
    "scores = scores['bald']\n",
    "\n",
    "acquired_pool_inds = np.argmax(scores)"
   ]
  },
  {
   "cell_type": "code",
   "execution_count": 15,
   "id": "190d2047",
   "metadata": {},
   "outputs": [
    {
     "data": {
      "text/plain": [
       "43"
      ]
     },
     "execution_count": 15,
     "metadata": {},
     "output_type": "execute_result"
    }
   ],
   "source": [
    "acquired_pool_inds"
   ]
  },
  {
   "cell_type": "code",
   "execution_count": null,
   "id": "69fc9740",
   "metadata": {},
   "outputs": [],
   "source": [
    "###Marglik"
   ]
  },
  {
   "cell_type": "code",
   "execution_count": 7,
   "id": "d00d0749",
   "metadata": {},
   "outputs": [
    {
     "name": "stdout",
     "output_type": "stream",
     "text": [
      "Downloading http://yann.lecun.com/exdb/mnist/train-images-idx3-ubyte.gz\n",
      "Downloading http://yann.lecun.com/exdb/mnist/train-images-idx3-ubyte.gz to ./data/MNIST/raw/train-images-idx3-ubyte.gz\n"
     ]
    },
    {
     "name": "stderr",
     "output_type": "stream",
     "text": [
      "100%|██████████| 9912422/9912422 [00:00<00:00, 131692897.87it/s]\n"
     ]
    },
    {
     "name": "stdout",
     "output_type": "stream",
     "text": [
      "Extracting ./data/MNIST/raw/train-images-idx3-ubyte.gz to ./data/MNIST/raw\n",
      "\n",
      "Downloading http://yann.lecun.com/exdb/mnist/train-labels-idx1-ubyte.gz\n",
      "Downloading http://yann.lecun.com/exdb/mnist/train-labels-idx1-ubyte.gz to ./data/MNIST/raw/train-labels-idx1-ubyte.gz\n"
     ]
    },
    {
     "name": "stderr",
     "output_type": "stream",
     "text": [
      "100%|██████████| 28881/28881 [00:00<00:00, 29302296.52it/s]\n"
     ]
    },
    {
     "name": "stdout",
     "output_type": "stream",
     "text": [
      "Extracting ./data/MNIST/raw/train-labels-idx1-ubyte.gz to ./data/MNIST/raw\n",
      "\n",
      "Downloading http://yann.lecun.com/exdb/mnist/t10k-images-idx3-ubyte.gz\n",
      "Downloading http://yann.lecun.com/exdb/mnist/t10k-images-idx3-ubyte.gz to ./data/MNIST/raw/t10k-images-idx3-ubyte.gz\n"
     ]
    },
    {
     "name": "stderr",
     "output_type": "stream",
     "text": [
      "100%|██████████| 1648877/1648877 [00:00<00:00, 38536801.09it/s]\n"
     ]
    },
    {
     "name": "stdout",
     "output_type": "stream",
     "text": [
      "Extracting ./data/MNIST/raw/t10k-images-idx3-ubyte.gz to ./data/MNIST/raw\n",
      "\n",
      "Downloading http://yann.lecun.com/exdb/mnist/t10k-labels-idx1-ubyte.gz\n",
      "Downloading http://yann.lecun.com/exdb/mnist/t10k-labels-idx1-ubyte.gz to ./data/MNIST/raw/t10k-labels-idx1-ubyte.gz\n"
     ]
    },
    {
     "name": "stderr",
     "output_type": "stream",
     "text": [
      "100%|██████████| 4542/4542 [00:00<00:00, 12165088.61it/s]\n"
     ]
    },
    {
     "name": "stdout",
     "output_type": "stream",
     "text": [
      "Extracting ./data/MNIST/raw/t10k-labels-idx1-ubyte.gz to ./data/MNIST/raw\n",
      "\n"
     ]
    }
   ],
   "source": [
    "transform = transforms.ToTensor()\n",
    "ds_cls = MNIST\n",
    "device = 'cpu'\n",
    "\n",
    "train_dataset = ds_cls(root='./data', train=True, download=True, transform=transform)\n",
    "test_dataset = ds_cls(root='./data', train=True, download=True, transform=transform)"
   ]
  },
  {
   "cell_type": "code",
   "execution_count": 8,
   "id": "124645ec",
   "metadata": {},
   "outputs": [
    {
     "data": {
      "text/plain": [
       "tensor([5, 0, 4,  ..., 5, 2, 0])"
      ]
     },
     "execution_count": 8,
     "metadata": {},
     "output_type": "execute_result"
    }
   ],
   "source": [
    "X, y = dataset_to_tensors(train_dataset, device=device)\n",
    "x_test_full, y_test_full = dataset_to_tensors(test_dataset, device=device)\n",
    "X = X[:2000]\n",
    "y = y[:2000]\n",
    "X.to(device)\n",
    "y.to(device)"
   ]
  },
  {
   "cell_type": "code",
   "execution_count": 9,
   "id": "c9c04b3e",
   "metadata": {},
   "outputs": [],
   "source": [
    "act_dataset = ActiveDataset(X, y, n_init=20, stratified=True)\n",
    "tr_loader = act_dataset.get_train_loader(batch_size = 250)\n",
    "#val_loader = DataLoader(test_dataset, batch_size=256, shuffle=False)\n",
    "val_loader_marglik = TensorDataLoader(X[:50], y[:50], batch_size=250)"
   ]
  },
  {
   "cell_type": "code",
   "execution_count": 10,
   "id": "872448b0",
   "metadata": {},
   "outputs": [],
   "source": [
    "# val_loader_marglik=TensorDataLoader(X[:500], y[:500], batch_size=250)\n",
    "# #val_ds_marglik = val_loader_marglik.dataset\n",
    "# #x_val_marglik, y_val_marglik = dataset_to_tensors(val_ds_marglik, device=device)\n",
    "# for x_b, y_b in val_loader_marglik:\n",
    "#     print(x_b.dtype)\n",
    "#     print(y_b.dtype)\n",
    "#     break"
   ]
  },
  {
   "cell_type": "code",
   "execution_count": 11,
   "id": "4d8e2130",
   "metadata": {},
   "outputs": [],
   "source": [
    "model = instantiate(cfg.model, input_shape=data.input_shape, output_size=data.n_classes)\n",
    "model = model.to(device)\n",
    "trainer = instantiate(cfg.trainer, model=model)"
   ]
  },
  {
   "cell_type": "code",
   "execution_count": 16,
   "id": "9fc51abb",
   "metadata": {},
   "outputs": [],
   "source": [
    "train_log = trainer.train(\n",
    "            train_loader=tr_loader,\n",
    "            val_loader=val_loader_marglik,\n",
    "        )"
   ]
  },
  {
   "cell_type": "code",
   "execution_count": 20,
   "id": "b1f3e97c",
   "metadata": {},
   "outputs": [],
   "source": [
    "target_loader = data.get_loader(\"target\")\n",
    "target_inputs, _ = next(iter(target_loader))\n",
    "\n",
    "scores = trainer.estimate_uncertainty(\n",
    "    pool_loader=val_loader_marglik,\n",
    "    target_inputs=target_inputs,\n",
    "    mode='bald',\n",
    "    rng=rng,\n",
    "    epig_probs_target=cfg.acquisition.epig_probs_target,\n",
    "    epig_probs_adjustment=cfg.acquisition.epig_probs_adjustment,\n",
    "    epig_using_matmul=cfg.acquisition.epig_using_matmul,\n",
    ")"
   ]
  },
  {
   "cell_type": "code",
   "execution_count": 21,
   "id": "916c4596",
   "metadata": {},
   "outputs": [],
   "source": [
    "scores = scores.numpy()\n",
    "scores = scores['bald']\n",
    "\n",
    "acquired_pool_inds = np.argmax(scores)"
   ]
  },
  {
   "cell_type": "code",
   "execution_count": 22,
   "id": "81e8d9e6",
   "metadata": {},
   "outputs": [
    {
     "data": {
      "text/plain": [
       "34"
      ]
     },
     "execution_count": 22,
     "metadata": {},
     "output_type": "execute_result"
    }
   ],
   "source": [
    "acquired_pool_inds"
   ]
  },
  {
   "cell_type": "code",
   "execution_count": null,
   "id": "72b19f1a",
   "metadata": {},
   "outputs": [],
   "source": []
  }
 ],
 "metadata": {
  "kernelspec": {
   "display_name": "Python 3 (ipykernel)",
   "language": "python",
   "name": "python3"
  },
  "language_info": {
   "codemirror_mode": {
    "name": "ipython",
    "version": 3
   },
   "file_extension": ".py",
   "mimetype": "text/x-python",
   "name": "python",
   "nbconvert_exporter": "python",
   "pygments_lexer": "ipython3",
   "version": "3.10.12"
  }
 },
 "nbformat": 4,
 "nbformat_minor": 5
}
