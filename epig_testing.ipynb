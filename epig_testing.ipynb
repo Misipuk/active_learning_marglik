{
 "cells": [
  {
   "cell_type": "code",
   "execution_count": 1,
   "id": "15fd9b27",
   "metadata": {},
   "outputs": [],
   "source": [
    "from active_learning.utils import dataset_to_tensors\n",
    "import torch\n",
    "import torch.distributions as dists\n",
    "import hydra\n",
    "from hydra import compose, initialize\n",
    "from hydra.utils import call, instantiate\n",
    "from omegaconf import OmegaConf\n",
    "import yaml\n",
    "import numpy as np\n",
    "from active_learning.utils import TensorDataLoader, set_seed, CIFAR10_transform, dataset_to_tensors\n",
    "\n",
    "import torch\n",
    "import math\n",
    "from torch import Tensor\n",
    "from torchvision import transforms\n",
    "from torchvision.datasets import MNIST\n",
    "from sklearn.model_selection import train_test_split\n",
    "from active_learning.active_dataset import *"
   ]
  },
  {
   "cell_type": "code",
   "execution_count": 2,
   "id": "35645dd5",
   "metadata": {},
   "outputs": [],
   "source": [
    "import hydra\n",
    "from hydra import compose, initialize\n",
    "from hydra.utils import call, instantiate\n",
    "from omegaconf import OmegaConf\n",
    "import yaml"
   ]
  },
  {
   "cell_type": "code",
   "execution_count": 3,
   "id": "de614017",
   "metadata": {},
   "outputs": [],
   "source": [
    "from src.utils import Dictionary"
   ]
  },
  {
   "cell_type": "code",
   "execution_count": 4,
   "id": "131aedee",
   "metadata": {},
   "outputs": [],
   "source": [
    "#!pip install laplace-torch\n",
    "#!pip install torchvision\n",
    "#!pip install batchbald_redux\n"
   ]
  },
  {
   "cell_type": "code",
   "execution_count": 5,
   "id": "8a3ac0f2",
   "metadata": {},
   "outputs": [],
   "source": [
    "with initialize(version_base=None, config_path=\"config\"):\n",
    "    cfg = compose(config_name=\"main\", overrides=[\"data=mnist/unbalanced_pool\", \"experiment_name=mnist_unbalanced\", \"acquisition.objective=epig\"])\n",
    "\n",
    "#cfg.data['label_counts']['train']['10_classes_in_range(10)'] = 10\n",
    "\n",
    "device = 'cpu'\n",
    "#'cuda'\n",
    "rng = call(cfg.rng)\n",
    "data = instantiate(cfg.data, rng=rng)\n",
    "data.torch()\n",
    "data.to(device)"
   ]
  },
  {
   "cell_type": "code",
   "execution_count": 6,
   "id": "0b1fac17",
   "metadata": {},
   "outputs": [],
   "source": [
    "###EPIG Active data class"
   ]
  },
  {
   "cell_type": "code",
   "execution_count": 7,
   "id": "a621cae1",
   "metadata": {},
   "outputs": [
    {
     "name": "stdout",
     "output_type": "stream",
     "text": [
      "{'_target_': 'src.models.ConvolutionalNeuralNetwork', 'dropout_rate': 0.5}\n",
      "2\n"
     ]
    }
   ],
   "source": [
    "print(cfg.model)\n",
    "cfg.trainer[\"n_optim_steps_max\"] = 2\n",
    "print(cfg.trainer[\"n_optim_steps_max\"])"
   ]
  },
  {
   "cell_type": "code",
   "execution_count": 8,
   "id": "b100d6cc",
   "metadata": {},
   "outputs": [
    {
     "name": "stdout",
     "output_type": "stream",
     "text": [
      "{'_target_': 'src.trainers.NeuralNetworkTrainer', 'early_stopping_metric': 'val_loss', 'early_stopping_patience': 5000, 'n_optim_steps_min': 0, 'n_optim_steps_max': 2, 'n_samples_test': 100, 'n_samples_train': 1, 'n_validations': 500, 'optimizer': {'_target_': 'torch.optim.SGD', '_partial_': True, 'lr': 0.01, 'weight_decay': 0.0001}, 'restore_best_model': True, 'verbose': False}\n"
     ]
    }
   ],
   "source": [
    "print(cfg.trainer)"
   ]
  },
  {
   "cell_type": "code",
   "execution_count": 8,
   "id": "9461af53",
   "metadata": {},
   "outputs": [],
   "source": [
    "model = instantiate(cfg.model, input_shape=data.input_shape, output_size=data.n_classes)\n",
    "model = model.to(device)\n",
    "trainer = instantiate(cfg.trainer, model=model)"
   ]
  },
  {
   "cell_type": "code",
   "execution_count": 9,
   "id": "fe8c0730",
   "metadata": {},
   "outputs": [],
   "source": [
    "# val_loader=data.get_loader(\"val\")\n",
    "# #val_ds = val_loader.dataset\n",
    "# #x_val, y_val = dataset_to_tensors(val_ds, device=device)\n",
    "# for x_b, y_b in val_loader:\n",
    "#     print(x_b.dtype)\n",
    "#     print(y_b.dtype)\n",
    "#     break"
   ]
  },
  {
   "cell_type": "code",
   "execution_count": 10,
   "id": "ff9a49c9",
   "metadata": {},
   "outputs": [],
   "source": [
    "#len(val_loader.dataset)"
   ]
  },
  {
   "cell_type": "code",
   "execution_count": 11,
   "id": "24e734c8",
   "metadata": {},
   "outputs": [
    {
     "name": "stdout",
     "output_type": "stream",
     "text": [
      "No validation here\n",
      "We are in restore_best_model if\n"
     ]
    }
   ],
   "source": [
    "train_log = trainer.train(\n",
    "            train_loader=data.get_loader(\"train\"),\n",
    "            val_loader=data.get_loader(\"val\"),\n",
    "        )"
   ]
  },
  {
   "cell_type": "code",
   "execution_count": 12,
   "id": "d6f40999",
   "metadata": {},
   "outputs": [
    {
     "data": {
      "text/plain": [
       "'epig'"
      ]
     },
     "execution_count": 12,
     "metadata": {},
     "output_type": "execute_result"
    }
   ],
   "source": [
    "cfg.acquisition.objective"
   ]
  },
  {
   "cell_type": "code",
   "execution_count": 13,
   "id": "56fbdd48",
   "metadata": {},
   "outputs": [],
   "source": [
    "target_loader = data.get_loader(\"target\")\n",
    "target_inputs, _ = next(iter(target_loader))\n",
    "\n",
    "scores = trainer.estimate_uncertainty(\n",
    "    pool_loader=data.get_loader(\"val\"),\n",
    "    target_inputs=target_inputs,\n",
    "    mode='bald',\n",
    "    rng=rng,\n",
    "    epig_probs_target=cfg.acquisition.epig_probs_target,\n",
    "    epig_probs_adjustment=cfg.acquisition.epig_probs_adjustment,\n",
    "    epig_using_matmul=cfg.acquisition.epig_using_matmul,\n",
    ")"
   ]
  },
  {
   "cell_type": "code",
   "execution_count": 14,
   "id": "c63de1d0",
   "metadata": {},
   "outputs": [],
   "source": [
    "scores = scores.numpy()\n",
    "scores = scores['bald']\n",
    "\n",
    "acquired_pool_inds = np.argmax(scores)"
   ]
  },
  {
   "cell_type": "code",
   "execution_count": 15,
   "id": "6de7ae0d",
   "metadata": {},
   "outputs": [
    {
     "data": {
      "text/plain": [
       "43"
      ]
     },
     "execution_count": 15,
     "metadata": {},
     "output_type": "execute_result"
    }
   ],
   "source": [
    "acquired_pool_inds"
   ]
  },
  {
   "cell_type": "code",
   "execution_count": null,
   "id": "8d3d1806",
   "metadata": {},
   "outputs": [],
   "source": [
    "###Marglik"
   ]
  },
  {
   "cell_type": "code",
   "execution_count": 24,
   "id": "44e8de51",
   "metadata": {},
   "outputs": [],
   "source": [
    "transform = transforms.ToTensor()\n",
    "ds_cls = MNIST\n",
    "device = 'cpu'\n",
    "\n",
    "train_dataset = ds_cls(root='./data', train=True, download=True, transform=transform)\n",
    "test_dataset = ds_cls(root='./data', train=True, download=True, transform=transform)"
   ]
  },
  {
   "cell_type": "code",
   "execution_count": 25,
   "id": "adca523c",
   "metadata": {},
   "outputs": [
    {
     "data": {
      "text/plain": [
       "tensor([5, 0, 4,  ..., 5, 2, 0])"
      ]
     },
     "execution_count": 25,
     "metadata": {},
     "output_type": "execute_result"
    }
   ],
   "source": [
    "X, y = dataset_to_tensors(train_dataset, device=device)\n",
    "x_test_full, y_test_full = dataset_to_tensors(test_dataset, device=device)\n",
    "X = X[:2000]\n",
    "y = y[:2000]\n",
    "X.to(device)\n",
    "y.to(device)"
   ]
  },
  {
   "cell_type": "code",
   "execution_count": 26,
   "id": "b7fd6fd3",
   "metadata": {},
   "outputs": [],
   "source": [
    "classes = torch.unique(y)\n",
    "    \n",
    "ixs_val = list()\n",
    "for c in classes.cpu().numpy():\n",
    "    ixs_val.append(np.random.choice(np.where(y.cpu() == c)[0], int(60/len(classes)), replace=False))\n",
    "ixs_val_np = np.array(ixs_val).reshape(1,-1).squeeze()\n",
    "X_val= X[ixs_val_np].detach().clone().to(device)\n",
    "y_val = y[ixs_val_np].detach().clone().to(device)\n"
   ]
  },
  {
   "cell_type": "code",
   "execution_count": 27,
   "id": "f77efed9",
   "metadata": {},
   "outputs": [],
   "source": [
    "import matplotlib.pyplot as plt\n",
    "def plot_number_histogram(y_data_1, title):\n",
    " # Creating the histogram\n",
    "    plt.hist(y_data_1, bins=np.arange(-0.5, 10.5, 1), align='mid', rwidth=0.8)\n",
    "\n",
    "    plt.xlabel('Digits')\n",
    "    plt.ylabel('Count')\n",
    "    plt.title(title)\n",
    "\n",
    "    plt.xticks(np.arange(0, 10))  # Display digits from 0 to 9 on the X-axis\n",
    "    plt.grid(axis='y')  # Display gridlines on the Y-axis\n",
    "\n",
    "    plt.show()"
   ]
  },
  {
   "cell_type": "code",
   "execution_count": 28,
   "id": "cb83bc46",
   "metadata": {},
   "outputs": [
    {
     "data": {
      "image/png": "[encoded data removed]",
      "text/plain": [
       "<Figure size 640x480 with 1 Axes>"
      ]
     },
     "metadata": {},
     "output_type": "display_data"
    }
   ],
   "source": [
    "plot_number_histogram(y_val, \"val_curated\")"
   ]
  },
  {
   "cell_type": "code",
   "execution_count": 9,
   "id": "9fc78376",
   "metadata": {},
   "outputs": [],
   "source": [
    "act_dataset = ActiveDataset(X, y, n_init=20, stratified=True)\n",
    "tr_loader = act_dataset.get_train_loader(batch_size = 250)\n",
    "#val_loader = DataLoader(test_dataset, batch_size=256, shuffle=False)\n",
    "val_loader_marglik = TensorDataLoader(X[:50], y[:50], batch_size=250)"
   ]
  },
  {
   "cell_type": "code",
   "execution_count": 10,
   "id": "fd556ef5",
   "metadata": {},
   "outputs": [],
   "source": [
    "# val_loader_marglik=TensorDataLoader(X[:500], y[:500], batch_size=250)\n",
    "# #val_ds_marglik = val_loader_marglik.dataset\n",
    "# #x_val_marglik, y_val_marglik = dataset_to_tensors(val_ds_marglik, device=device)\n",
    "# for x_b, y_b in val_loader_marglik:\n",
    "#     print(x_b.dtype)\n",
    "#     print(y_b.dtype)\n",
    "#     break"
   ]
  },
  {
   "cell_type": "code",
   "execution_count": 11,
   "id": "b5cb9ae8",
   "metadata": {},
   "outputs": [],
   "source": [
    "model = instantiate(cfg.model, input_shape=data.input_shape, output_size=data.n_classes)\n",
    "model = model.to(device)\n",
    "trainer = instantiate(cfg.trainer, model=model)"
   ]
  },
  {
   "cell_type": "code",
   "execution_count": 12,
   "id": "57808b10",
   "metadata": {},
   "outputs": [],
   "source": [
    "train_log = trainer.train(\n",
    "            train_loader=tr_loader,\n",
    "            val_loader=val_loader_marglik,\n",
    "        )"
   ]
  },
  {
   "cell_type": "code",
   "execution_count": 16,
   "id": "d5f57a39",
   "metadata": {},
   "outputs": [],
   "source": [
    "with torch.inference_mode():\n",
    "    test_acc, test_loss = trainer.test(data.get_loader(\"test\"))"
   ]
  },
  {
   "cell_type": "code",
   "execution_count": 13,
   "id": "8dbbb6dd",
   "metadata": {},
   "outputs": [],
   "source": [
    "target_loader = data.get_loader(\"target\")\n",
    "target_inputs, _ = next(iter(target_loader))\n",
    "\n",
    "scores = trainer.estimate_uncertainty(\n",
    "    pool_loader=val_loader_marglik,\n",
    "    target_inputs=target_inputs,\n",
    "    mode='bald',\n",
    "    rng=rng,\n",
    "    epig_probs_target=cfg.acquisition.epig_probs_target,\n",
    "    epig_probs_adjustment=cfg.acquisition.epig_probs_adjustment,\n",
    "    epig_using_matmul=cfg.acquisition.epig_using_matmul,\n",
    ")"
   ]
  },
  {
   "cell_type": "code",
   "execution_count": 14,
   "id": "24b5a6b2",
   "metadata": {},
   "outputs": [],
   "source": [
    "scores = scores.numpy()\n",
    "scores = scores['bald']\n",
    "\n",
    "acquired_pool_inds = np.argmax(scores)"
   ]
  },
  {
   "cell_type": "code",
   "execution_count": 15,
   "id": "5a713ceb",
   "metadata": {},
   "outputs": [
    {
     "data": {
      "text/plain": [
       "34"
      ]
     },
     "execution_count": 15,
     "metadata": {},
     "output_type": "execute_result"
    }
   ],
   "source": [
    "acquired_pool_inds"
   ]
  },
  {
   "cell_type": "code",
   "execution_count": null,
   "id": "382f57fd",
   "metadata": {},
   "outputs": [],
   "source": []
  }
 ],
 "metadata": {
  "kernelspec": {
   "display_name": "Python 3 (ipykernel)",
   "language": "python",
   "name": "python3"
  },
  "language_info": {
   "codemirror_mode": {
    "name": "ipython",
    "version": 3
   },
   "file_extension": ".py",
   "mimetype": "text/x-python",
   "name": "python",
   "nbconvert_exporter": "python",
   "pygments_lexer": "ipython3",
   "version": "3.10.12"
  }
 },
 "nbformat": 4,
 "nbformat_minor": 5
}
